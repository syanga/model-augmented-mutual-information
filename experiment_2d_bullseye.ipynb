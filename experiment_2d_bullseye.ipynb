{
 "cells": [
  {
   "cell_type": "code",
   "execution_count": null,
   "metadata": {},
   "outputs": [],
   "source": [
    "%load_ext autoreload\n",
    "%autoreload 2\n",
    "# %matplotlib notebook\n",
    "\n",
    "import numpy as np\n",
    "import matplotlib.pyplot as plt\n",
    "import seaborn as sns\n",
    "import h5py\n",
    "import pickle\n",
    "import json\n",
    "import torch\n",
    "from tqdm import tqdm, tqdm_notebook\n",
    "\n",
    "from bullseye import BullseyeData\n",
    "\n",
    "# matplotlib and seaborn settings\n",
    "from matplotlib import rc\n",
    "rc('text', usetex=True)\n",
    "plt.rcParams['text.latex.preamble']=[r\"\\usepackage{amsmath}\"]\n",
    "\n",
    "sns.set_style(\"white\")\n",
    "\n",
    "font = {'family': 'serif',\n",
    "        'color':  'black',\n",
    "        'weight': 'normal',\n",
    "        'size': 14}"
   ]
  },
  {
   "cell_type": "markdown",
   "metadata": {},
   "source": [
    "## Plot 2D Bullseye Data samples "
   ]
  },
  {
   "cell_type": "code",
   "execution_count": null,
   "metadata": {},
   "outputs": [],
   "source": [
    "datagen = BullseyeData(500, 0.075, copies=1, scale_4=True)\n",
    "\n",
    "fig,ax = plt.subplots(figsize=(4,4))\n",
    "sns.despine(left=True, bottom=True)\n",
    "ax.scatter(datagen.X[:,0], datagen.X[:,1])\n",
    "x0,x1 = ax.get_xlim()\n",
    "y0,y1 = ax.get_ylim()\n",
    "ax.set_aspect(abs(x1-x0)/abs(y1-y0))\n",
    "ax.set_xlabel(r\" \", fontdict=font)\n",
    "ax.set_ylabel(r\" \", fontdict=font)\n",
    "plt.tight_layout()\n",
    "plt.savefig(\"assets/bullseye.pdf\")\n",
    "plt.show()"
   ]
  },
  {
   "cell_type": "markdown",
   "metadata": {},
   "source": [
    "### Mappings for $I(X;Y)$: vanilla vs. proposed for fixed $n$"
   ]
  },
  {
   "cell_type": "code",
   "execution_count": null,
   "metadata": {},
   "outputs": [],
   "source": [
    "n_fixed = 1000\n",
    "datagen = BullseyeData(n_fixed, 0.075, copies=1, scale_4=True)\n",
    "datagen.make_X_data('data/bullseye_fixedn.h5')"
   ]
  },
  {
   "cell_type": "code",
   "execution_count": null,
   "metadata": {},
   "outputs": [],
   "source": [
    "# Vanilla model\n",
    "config_path = \"config/config_bullseye_vanilla.json\"\n",
    "vanilla_manager = ModelManager(config_path)\n",
    "vanilla_manager.train()"
   ]
  },
  {
   "cell_type": "code",
   "execution_count": null,
   "metadata": {},
   "outputs": [],
   "source": [
    "# Proposed Method\n",
    "config_path = \"config/config_bullseye_proposed.json\"\n",
    "proposed_manager = ModelManager(config_path)\n",
    "proposed_manager.train()"
   ]
  },
  {
   "cell_type": "code",
   "execution_count": null,
   "metadata": {},
   "outputs": [],
   "source": [
    "import scipy.interpolate\n",
    "eps = 0.05\n",
    "save_file = \"checkpoint-epoch150.pth\"\n",
    "\n",
    "def forceAspect(ax,aspect=1):\n",
    "    im = ax.get_images()\n",
    "    extent =  im[0].get_extent()\n",
    "    ax.set_aspect(abs((extent[1]-extent[0])/(extent[3]-extent[2]))/aspect)\n",
    "\n",
    "# estimate for R\n",
    "with h5py.File(\"data/bullseye_fixedn.h5\", \"r\") as f:\n",
    "    x_data = np.array(f['X'])\n",
    "    y_data = np.array(f['Y'])\n",
    "\n",
    "# vanilla samples\n",
    "x_margin,y_margin = 0.6, 0.6\n",
    "_,z_vanilla = vanilla_manager.process_numpy(x_data,  save_file)\n",
    "with torch.no_grad():\n",
    "    # determine plot range\n",
    "    xmax,xmin = np.max(z_vanilla[:,0])+x_margin, np.min(z_vanilla[:,0])-x_margin\n",
    "    ymax,ymin = np.max(z_vanilla[:,1])+y_margin, np.min(z_vanilla[:,1])-y_margin\n",
    "\n",
    "    x_samples = xmax + (xmin-xmax) * torch.rand(5000)\n",
    "    y_samples = ymax + (ymin-ymax) * torch.rand(5000)\n",
    "    z_samples = (torch.stack((x_samples, y_samples)).t())\n",
    "    z_samples = z_samples.to(torch.device('cuda' if torch.cuda.is_available() else 'cpu'))\n",
    "\n",
    "    pred_vanilla = vanilla_manager.model._predict(z_samples).detach().cpu().numpy().flatten()\n",
    "    z_samples = z_samples.detach().cpu().numpy()\n",
    "\n",
    "xi, yi = np.linspace(xmin+eps, xmax-eps, 300), np.linspace(ymin+eps, ymax-eps, 300)\n",
    "xi, yi = np.meshgrid(xi, yi)\n",
    "zi_vanilla = scipy.interpolate.griddata((z_samples[:,0], z_samples[:,1]), pred_vanilla, (xi, yi), method='linear')\n",
    "\n",
    "fig,(ax1,ax2) = plt.subplots(1,2,figsize=(8,6))\n",
    "im = ax1.imshow(zi_vanilla, origin='lower', extent=[xmin, xmax, ymin, ymax], cmap='inferno', alpha=0.7)\n",
    "fig.colorbar(im, fraction=0.046, pad=0.04, ax=ax1)\n",
    "ax1.scatter(z_vanilla[:,0], z_vanilla[:,1], c='k', s=20, marker='.')\n",
    "forceAspect(ax1, aspect=1)\n",
    "\n",
    "# plt.tight_layout()\n",
    "# ax1.savefig(\"bullseye_vanilla_z.pdf\")\n",
    "# plt.show()\n",
    "\n",
    "\n",
    "save_file = \"checkpoint-epoch150.pth\"\n",
    "####################################### proposed samples\n",
    "x_margin,y_margin = 0.6,0.6\n",
    "_,z_prop = proposed_manager.process_numpy(x_data, save_file)\n",
    "with torch.no_grad():\n",
    "    # determine plot range\n",
    "    xmax,xmin = np.max(z_prop[:,0])+x_margin, np.min(z_prop[:,0])-x_margin\n",
    "    ymax,ymin = np.max(z_prop[:,1])+y_margin, np.min(z_prop[:,1])-y_margin\n",
    "\n",
    "    x_samples = xmax + (xmin-xmax) * torch.rand(5000)\n",
    "    y_samples = ymax + (ymin-ymax) * torch.rand(5000)\n",
    "    z_samples = (torch.stack((x_samples, y_samples)).t())\n",
    "    z_samples = z_samples.to(torch.device('cuda' if torch.cuda.is_available() else 'cpu'))\n",
    "\n",
    "    pred_proposed = proposed_manager.model._predict(z_samples).detach().cpu().numpy().flatten()\n",
    "    z_samples = z_samples.detach().cpu().numpy()\n",
    "\n",
    "xi, yi = np.linspace(xmin+eps, xmax-eps, 500), np.linspace(ymin+eps, ymax-eps, 500)\n",
    "xi, yi = np.meshgrid(xi, yi)\n",
    "zi_proposed = scipy.interpolate.griddata((z_samples[:,0], z_samples[:,1]), pred_proposed, (xi, yi), method='linear')\n",
    "\n",
    "im = ax2.imshow(zi_proposed, origin='lower', extent=[xmin, xmax, ymin, ymax], cmap='inferno', alpha=0.7)\n",
    "fig.colorbar(im, fraction=0.046, pad=0.04, ax=ax2)\n",
    "ax2.scatter(z_prop[:,0], z_prop[:,1], c='k', s=20, marker='.')\n",
    "forceAspect(ax2, aspect=1)\n",
    "\n",
    "plt.tight_layout()\n",
    "# save figure\n",
    "plt.savefig(\"bullseye_proposed_z.pdf\")\n",
    "plt.savefig(\"bullseye_vanilla_z.pdf\")\n",
    "\n",
    "plt.show()"
   ]
  }
 ],
 "metadata": {
  "language_info": {
   "codemirror_mode": {
    "name": "ipython",
    "version": 3
   },
   "file_extension": ".py",
   "mimetype": "text/x-python",
   "name": "python",
   "nbconvert_exporter": "python",
   "pygments_lexer": "ipython3",
   "version": "3.7.4-final"
  },
  "orig_nbformat": 2,
  "kernelspec": {
   "name": "python3",
   "display_name": "Python 3"
  }
 },
 "nbformat": 4,
 "nbformat_minor": 2
}